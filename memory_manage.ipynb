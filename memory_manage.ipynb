{
  "nbformat": 4,
  "nbformat_minor": 0,
  "metadata": {
    "colab": {
      "provenance": []
    },
    "kernelspec": {
      "name": "python3",
      "display_name": "Python 3"
    },
    "language_info": {
      "name": "python"
    }
  },
  "cells": [
    {
      "cell_type": "markdown",
      "source": [
        "## Python Memory management\n",
        "\n",
        "memory management in python involves a combination of automatic garbage collection, reference counting, and various internal optimizations to efficiently manage memory allocation and deallocation."
      ],
      "metadata": {
        "id": "FaSWDV-ucnAu"
      }
    },
    {
      "cell_type": "markdown",
      "source": [
        "Reference Counting:\n",
        "is the primary method Python uses to manage memory. Each object in Python maintains a count of references pointing to it. when the reference count drops to zero, the memory occupied by the object is deallocated."
      ],
      "metadata": {
        "id": "WTkmje-id0zH"
      }
    },
    {
      "cell_type": "code",
      "source": [
        "import sys\n",
        "\n",
        "a = []\n",
        "## 2(one reference from 'a' and one from getrefcount())\n",
        "print(sys.getrefcount(a))\n"
      ],
      "metadata": {
        "colab": {
          "base_uri": "https://localhost:8080/"
        },
        "id": "KaJolrnrdg8H",
        "outputId": "b6596139-cb7b-4efa-9a63-653248d73a33"
      },
      "execution_count": null,
      "outputs": [
        {
          "output_type": "stream",
          "name": "stdout",
          "text": [
            "2\n"
          ]
        }
      ]
    },
    {
      "cell_type": "code",
      "source": [
        "b= a\n",
        "print(sys.getrefcount(b))"
      ],
      "metadata": {
        "colab": {
          "base_uri": "https://localhost:8080/"
        },
        "id": "q7DoADSwerpV",
        "outputId": "8de80e8b-ae05-4d83-ceef-a3408d06cc49"
      },
      "execution_count": null,
      "outputs": [
        {
          "output_type": "stream",
          "name": "stdout",
          "text": [
            "4\n"
          ]
        }
      ]
    },
    {
      "cell_type": "code",
      "source": [
        "print(sys.getrefcount(a))"
      ],
      "metadata": {
        "colab": {
          "base_uri": "https://localhost:8080/"
        },
        "id": "O4xyLE7BfEhV",
        "outputId": "51083616-3f2c-40fe-984a-50255e989e68"
      },
      "execution_count": null,
      "outputs": [
        {
          "output_type": "stream",
          "name": "stdout",
          "text": [
            "5\n"
          ]
        }
      ]
    },
    {
      "cell_type": "code",
      "source": [
        "del b\n",
        "print(sys.getrefcount(a))"
      ],
      "metadata": {
        "colab": {
          "base_uri": "https://localhost:8080/"
        },
        "id": "PxQzpM8Bf_dS",
        "outputId": "f4fd8543-215b-43de-b82c-18b3294e8579"
      },
      "execution_count": null,
      "outputs": [
        {
          "output_type": "stream",
          "name": "stdout",
          "text": [
            "4\n"
          ]
        }
      ]
    },
    {
      "cell_type": "markdown",
      "source": [
        "Garbage collection: Python includes a cyclic garbage collector to handle reference cycles. Reference cycles occur when objects reference each other, preventing their reference counts from reaching zero.\n"
      ],
      "metadata": {
        "id": "C7o9uNP5gTnT"
      }
    },
    {
      "cell_type": "code",
      "source": [
        "import gc\n",
        "\n",
        "# enable garbage collection\n",
        "gc.enable()"
      ],
      "metadata": {
        "id": "jRflUlYGgEzh"
      },
      "execution_count": null,
      "outputs": []
    },
    {
      "cell_type": "code",
      "source": [
        "gc.disable()"
      ],
      "metadata": {
        "id": "kZIH9f0RiGXc"
      },
      "execution_count": null,
      "outputs": []
    },
    {
      "cell_type": "code",
      "source": [
        "gc.collect()"
      ],
      "metadata": {
        "colab": {
          "base_uri": "https://localhost:8080/"
        },
        "id": "16OCUS_eiJHP",
        "outputId": "bd65dc22-cc34-48c4-a0a1-eecb085837be"
      },
      "execution_count": null,
      "outputs": [
        {
          "output_type": "execute_result",
          "data": {
            "text/plain": [
              "122"
            ]
          },
          "metadata": {},
          "execution_count": 3
        }
      ]
    },
    {
      "cell_type": "code",
      "source": [
        "# get garbage collection stats\n",
        "print(gc.get_stats())"
      ],
      "metadata": {
        "colab": {
          "base_uri": "https://localhost:8080/"
        },
        "id": "Qdy3_F7QiNCp",
        "outputId": "df3f1765-1ce0-4441-d992-7410c95d14c1"
      },
      "execution_count": null,
      "outputs": [
        {
          "output_type": "stream",
          "name": "stdout",
          "text": [
            "[{'collections': 289, 'collected': 2451, 'uncollectable': 0}, {'collections': 26, 'collected': 568, 'uncollectable': 0}, {'collections': 3, 'collected': 142, 'uncollectable': 0}]\n"
          ]
        }
      ]
    },
    {
      "cell_type": "code",
      "source": [
        "## get unreachable objects\n",
        "print(gc.garbage)"
      ],
      "metadata": {
        "colab": {
          "base_uri": "https://localhost:8080/"
        },
        "id": "2HQWwsf4j4bR",
        "outputId": "ab1a4439-d318-432f-e6ab-2009e8ba470f"
      },
      "execution_count": null,
      "outputs": [
        {
          "output_type": "stream",
          "name": "stdout",
          "text": [
            "[]\n"
          ]
        }
      ]
    },
    {
      "cell_type": "markdown",
      "source": [
        "**Memory management best practices**\n",
        "1. use local variables. because shorter lifespan and are freed sooner than global.\n",
        "2. Avoid cercular reference. can leak memory if not properly managed\n",
        "3. use generators. generators produce items one at a time and only keep one item in memory at a time making them memory efficient.\n",
        "4. Explicity delete objects. use the del statement to delete variables and objects explicity.\n",
        "5. Profile memory usage. use memory profiling tools like tracemalloc and memory_profiler to identify memory leaks and optimize memory usage."
      ],
      "metadata": {
        "id": "7rU7eHqfknC4"
      }
    },
    {
      "cell_type": "code",
      "source": [
        "# handling circular reference\n",
        "\n",
        "import gc\n",
        "\n",
        "class Myobject:\n",
        "  def __init__(self, name):\n",
        "    self.name = name\n",
        "    print(f\"object {self.name} created\")\n",
        "\n",
        "  def __del__(self):\n",
        "    print(f\"object {self.name} deleted\")\n",
        "\n",
        "## create circular reference\n",
        "obj1 = Myobject(\"obj1\")\n",
        "obj2 = Myobject(\"obj2\")\n",
        "\n",
        "obj1.ref = obj2\n",
        "obj2.ref = obj1\n",
        "\n",
        "del obj1\n",
        "del obj2\n",
        "\n",
        "\n",
        "# manually rigger the garbage collection\n",
        "gc.collect() # without this won't be deleted"
      ],
      "metadata": {
        "colab": {
          "base_uri": "https://localhost:8080/"
        },
        "id": "Z5w5oiCOkPrX",
        "outputId": "39600769-b1e6-46c1-8348-2e5cbb614e55"
      },
      "execution_count": null,
      "outputs": [
        {
          "output_type": "stream",
          "name": "stdout",
          "text": [
            "object obj1 created\n",
            "object obj2 created\n",
            "object obj1 deleted\n",
            "object obj2 deleted\n"
          ]
        },
        {
          "output_type": "execute_result",
          "data": {
            "text/plain": [
              "9"
            ]
          },
          "metadata": {},
          "execution_count": 4
        }
      ]
    },
    {
      "cell_type": "code",
      "source": [
        "#  Generators for Memory efficiency\n",
        "\n",
        "def generate_numbers(n):\n",
        "  for i in range(n):\n",
        "    yield i\n",
        "\n",
        "## using the generator\n",
        "for num in generate_numbers(299):\n",
        "  print(num)\n",
        "  if num > 10:\n",
        "    break\n"
      ],
      "metadata": {
        "colab": {
          "base_uri": "https://localhost:8080/"
        },
        "id": "3qb3HWAap6sz",
        "outputId": "d08eb3ec-1aea-4ad9-e736-006aeb9bcb88"
      },
      "execution_count": null,
      "outputs": [
        {
          "output_type": "stream",
          "name": "stdout",
          "text": [
            "0\n",
            "1\n",
            "2\n",
            "3\n",
            "4\n",
            "5\n",
            "6\n",
            "7\n",
            "8\n",
            "9\n",
            "10\n",
            "11\n"
          ]
        }
      ]
    },
    {
      "cell_type": "code",
      "source": [
        "# Profiling Memory usage with tracemalloc\n",
        "import tracemalloc\n",
        "\n",
        "def create_list():\n",
        "  return [i for i in range(10000)]\n",
        "\n",
        "def main():\n",
        "  tracemalloc.start()\n",
        "  create_list()\n",
        "\n",
        "  snapshot = tracemalloc.take_snapshot()\n",
        "  top_stats = snapshot.statistics(\"lineno\")\n",
        "\n",
        "  #print(\"[ Top 10 ]\")\n",
        "  for stat in top_stats[::]:\n",
        "    print(stat)"
      ],
      "metadata": {
        "id": "IbrM-UUEquRP"
      },
      "execution_count": null,
      "outputs": []
    },
    {
      "cell_type": "code",
      "source": [
        "main()"
      ],
      "metadata": {
        "colab": {
          "base_uri": "https://localhost:8080/"
        },
        "id": "Nv7sO9JQsxUx",
        "outputId": "cf8bd2be-5d8e-4ffb-e3b4-45dff0675612"
      },
      "execution_count": null,
      "outputs": [
        {
          "output_type": "stream",
          "name": "stdout",
          "text": [
            "/usr/local/lib/python3.11/dist-packages/zmq/sugar/attrsettr.py:44: size=2365 B, count=43, average=55 B\n",
            "/usr/lib/python3.11/json/decoder.py:353: size=2105 B, count=27, average=78 B\n",
            "/usr/lib/python3.11/codeop.py:125: size=2060 B, count=22, average=94 B\n",
            "/usr/local/lib/python3.11/dist-packages/traitlets/traitlets.py:744: size=1776 B, count=25, average=71 B\n",
            "/usr/local/lib/python3.11/dist-packages/traitlets/traitlets.py:1535: size=1532 B, count=22, average=70 B\n",
            "/usr/local/lib/python3.11/dist-packages/IPython/core/compilerop.py:159: size=1178 B, count=16, average=74 B\n",
            "/usr/local/lib/python3.11/dist-packages/zmq/sugar/socket.py:732: size=1104 B, count=6, average=184 B\n",
            "/usr/local/lib/python3.11/dist-packages/jupyter_client/jsonutil.py:88: size=1102 B, count=19, average=58 B\n",
            "/usr/local/lib/python3.11/dist-packages/debugpy/_vendored/pydevd/_pydevd_bundle/pydevd_comm.py:204: size=1057 B, count=1, average=1057 B\n",
            "/usr/local/lib/python3.11/dist-packages/traitlets/traitlets.py:1502: size=840 B, count=7, average=120 B\n",
            "/usr/local/lib/python3.11/dist-packages/IPython/core/compilerop.py:101: size=768 B, count=10, average=77 B\n",
            "/usr/local/lib/python3.11/dist-packages/google/colab/_variable_inspector.py:28: size=768 B, count=1, average=768 B\n",
            "/usr/lib/python3.11/threading.py:265: size=760 B, count=2, average=380 B\n",
            "/usr/local/lib/python3.11/dist-packages/debugpy/_vendored/pydevd/_pydevd_bundle/pydevd_comm.py:653: size=648 B, count=3, average=216 B\n",
            "/usr/local/lib/python3.11/dist-packages/IPython/core/interactiveshell.py:3004: size=536 B, count=4, average=134 B\n",
            "/usr/local/lib/python3.11/dist-packages/jupyter_client/session.py:917: size=519 B, count=4, average=130 B\n",
            "/usr/local/lib/python3.11/dist-packages/zmq/utils/jsonapi.py:24: size=480 B, count=4, average=120 B\n",
            "/usr/local/lib/python3.11/dist-packages/ipykernel/iostream.py:230: size=480 B, count=4, average=120 B\n",
            "/usr/local/lib/python3.11/dist-packages/IPython/core/interactiveshell.py:3257: size=440 B, count=2, average=220 B\n",
            "/usr/lib/python3.11/asyncio/events.py:84: size=432 B, count=5, average=86 B\n",
            "/usr/local/lib/python3.11/dist-packages/IPython/core/history.py:709: size=425 B, count=2, average=212 B\n",
            "/usr/local/lib/python3.11/dist-packages/ipykernel/kernelbase.py:712: size=424 B, count=2, average=212 B\n",
            "/usr/local/lib/python3.11/dist-packages/ipykernel/iostream.py:588: size=400 B, count=6, average=67 B\n",
            "/usr/lib/python3.11/tracemalloc.py:67: size=384 B, count=6, average=64 B\n",
            "/usr/local/lib/python3.11/dist-packages/ipykernel/iostream.py:286: size=360 B, count=3, average=120 B\n",
            "/usr/local/lib/python3.11/dist-packages/ipykernel/kernelbase.py:404: size=352 B, count=1, average=352 B\n",
            "/usr/local/lib/python3.11/dist-packages/IPython/core/interactiveshell.py:3473: size=320 B, count=1, average=320 B\n",
            "/usr/local/lib/python3.11/dist-packages/ipykernel/zmqshell.py:528: size=288 B, count=4, average=72 B\n",
            "/usr/lib/python3.11/asyncio/base_events.py:782: size=288 B, count=3, average=96 B\n",
            "/usr/local/lib/python3.11/dist-packages/tornado/queues.py:248: size=288 B, count=2, average=144 B\n",
            "/usr/lib/python3.11/threading.py:258: size=280 B, count=2, average=140 B\n",
            "/usr/local/lib/python3.11/dist-packages/IPython/core/interactiveshell.py:3358: size=279 B, count=2, average=140 B\n",
            "/usr/local/lib/python3.11/dist-packages/debugpy/_vendored/pydevd/_pydevd_bundle/pydevd_net_command.py:96: size=277 B, count=1, average=277 B\n",
            "/usr/local/lib/python3.11/dist-packages/tornado/platform/asyncio.py:235: size=272 B, count=4, average=68 B\n",
            "/usr/local/lib/python3.11/dist-packages/ipykernel/kernelbase.py:499: size=272 B, count=1, average=272 B\n",
            "/usr/lib/python3.11/threading.py:320: size=264 B, count=6, average=44 B\n",
            "/usr/local/lib/python3.11/dist-packages/zmq/sugar/socket.py:729: size=240 B, count=2, average=120 B\n",
            "/usr/local/lib/python3.11/dist-packages/debugpy/_vendored/pydevd/_pydevd_bundle/pydevd_api.py:205: size=240 B, count=2, average=120 B\n",
            "/usr/local/lib/python3.11/dist-packages/ipykernel/kernelbase.py:510: size=240 B, count=1, average=240 B\n",
            "/usr/lib/python3.11/logging/__init__.py:1572: size=240 B, count=1, average=240 B\n",
            "/usr/local/lib/python3.11/dist-packages/IPython/core/interactiveshell.py:3124: size=224 B, count=4, average=56 B\n",
            "/usr/local/lib/python3.11/dist-packages/IPython/core/interactiveshell.py:3138: size=216 B, count=2, average=108 B\n",
            "/usr/local/lib/python3.11/dist-packages/jupyter_client/session.py:939: size=208 B, count=1, average=208 B\n",
            "/usr/local/lib/python3.11/dist-packages/jupyter_client/adapter.py:389: size=208 B, count=1, average=208 B\n",
            "/usr/local/lib/python3.11/dist-packages/debugpy/_vendored/pydevd/_pydevd_bundle/_debug_adapter/pydevd_schema.py:9545: size=208 B, count=1, average=208 B\n",
            "/usr/lib/python3.11/asyncio/futures.py:418: size=200 B, count=5, average=40 B\n",
            "/usr/local/lib/python3.11/dist-packages/IPython/core/interactiveshell.py:3125: size=192 B, count=4, average=48 B\n",
            "/usr/lib/python3.11/tracemalloc.py:193: size=192 B, count=4, average=48 B\n",
            "/usr/local/lib/python3.11/dist-packages/google/colab/_shell.py:93: size=167 B, count=2, average=84 B\n",
            "/usr/local/lib/python3.11/dist-packages/ipykernel/kernelbase.py:535: size=152 B, count=1, average=152 B\n",
            "/usr/local/lib/python3.11/dist-packages/IPython/core/interactiveshell.py:3553: size=152 B, count=1, average=152 B\n",
            "/usr/local/lib/python3.11/dist-packages/IPython/core/interactiveshell.py:3449: size=152 B, count=1, average=152 B\n",
            "/usr/lib/python3.11/asyncio/futures.py:394: size=152 B, count=1, average=152 B\n",
            "/usr/lib/python3.11/asyncio/futures.py:387: size=152 B, count=1, average=152 B\n",
            "/usr/lib/python3.11/asyncio/futures.py:381: size=152 B, count=1, average=152 B\n",
            "/tmp/ipython-input-10-3572766198.py:7: size=152 B, count=1, average=152 B\n",
            "/tmp/ipython-input-10-3572766198.py:4: size=152 B, count=1, average=152 B\n",
            "/usr/lib/python3.11/enum.py:1105: size=144 B, count=3, average=48 B\n",
            "/usr/lib/python3.11/asyncio/base_events.py:428: size=144 B, count=1, average=144 B\n",
            "/usr/local/lib/python3.11/dist-packages/debugpy/_vendored/pydevd/_pydevd_bundle/pydevd_process_net_command_json.py:171: size=137 B, count=2, average=68 B\n",
            "/usr/lib/python3.11/selectors.py:468: size=128 B, count=3, average=43 B\n",
            "/usr/local/lib/python3.11/dist-packages/ipykernel/kernelbase.py:293: size=128 B, count=2, average=64 B\n",
            "/usr/lib/python3.11/threading.py:626: size=128 B, count=2, average=64 B\n",
            "/usr/local/lib/python3.11/dist-packages/IPython/core/interactiveshell.py:3468: size=120 B, count=3, average=40 B\n",
            "/usr/local/lib/python3.11/dist-packages/ipykernel/iostream.py:219: size=120 B, count=1, average=120 B\n",
            "/usr/local/lib/python3.11/dist-packages/debugpy/_vendored/pydevd/_pydevd_bundle/pydevd_comm.py:200: size=118 B, count=1, average=118 B\n",
            "/usr/local/lib/python3.11/dist-packages/IPython/core/interactiveshell.py:3297: size=112 B, count=2, average=56 B\n",
            "/usr/lib/python3.11/concurrent/futures/_base.py:334: size=112 B, count=2, average=56 B\n",
            "/usr/local/lib/python3.11/dist-packages/jupyter_client/session.py:855: size=111 B, count=2, average=56 B\n",
            "/usr/local/lib/python3.11/dist-packages/IPython/core/history.py:732: size=106 B, count=2, average=53 B\n",
            "/usr/local/lib/python3.11/dist-packages/debugpy/_vendored/pydevd/_pydevd_bundle/pydevd_net_command_factory_json.py:165: size=104 B, count=2, average=52 B\n",
            "/usr/local/lib/python3.11/dist-packages/zmq/sugar/socket.py:620: size=96 B, count=2, average=48 B\n",
            "/usr/local/lib/python3.11/dist-packages/jupyter_client/session.py:151: size=96 B, count=2, average=48 B\n",
            "/usr/lib/python3.11/threading.py:101: size=96 B, count=2, average=48 B\n",
            "/usr/lib/python3.11/enum.py:1534: size=96 B, count=2, average=48 B\n",
            "/usr/local/lib/python3.11/dist-packages/debugpy/_vendored/pydevd/_pydevd_bundle/_debug_adapter/pydevd_schema.py:18722: size=88 B, count=2, average=44 B\n",
            "/usr/lib/python3.11/threading.py:262: size=72 B, count=1, average=72 B\n",
            "/usr/lib/python3.11/threading.py:254: size=72 B, count=1, average=72 B\n",
            "/usr/lib/python3.11/threading.py:249: size=72 B, count=1, average=72 B\n",
            "/usr/lib/python3.11/threading.py:248: size=72 B, count=1, average=72 B\n",
            "/usr/local/lib/python3.11/dist-packages/IPython/core/interactiveshell.py:3425: size=64 B, count=2, average=32 B\n",
            "/usr/local/lib/python3.11/dist-packages/zmq/sugar/socket.py:733: size=64 B, count=1, average=64 B\n",
            "/usr/local/lib/python3.11/dist-packages/ipykernel/ipkernel.py:317: size=64 B, count=1, average=64 B\n",
            "/usr/local/lib/python3.11/dist-packages/ipykernel/ipkernel.py:316: size=64 B, count=1, average=64 B\n",
            "/usr/local/lib/python3.11/dist-packages/ipykernel/ipkernel.py:238: size=64 B, count=1, average=64 B\n",
            "/usr/local/lib/python3.11/dist-packages/ipykernel/ipkernel.py:235: size=64 B, count=1, average=64 B\n",
            "/usr/local/lib/python3.11/dist-packages/debugpy/_vendored/pydevd/_pydevd_bundle/_debug_adapter/pydevd_schema.py:18721: size=64 B, count=1, average=64 B\n",
            "/usr/local/lib/python3.11/dist-packages/IPython/core/interactiveshell.py:3537: size=64 B, count=1, average=64 B\n",
            "/usr/local/lib/python3.11/dist-packages/IPython/core/interactiveshell.py:3204: size=64 B, count=1, average=64 B\n",
            "/usr/local/lib/python3.11/dist-packages/IPython/core/interactiveshell.py:3199: size=64 B, count=1, average=64 B\n",
            "/usr/local/lib/python3.11/dist-packages/IPython/core/history.py:720: size=64 B, count=1, average=64 B\n",
            "/usr/local/lib/python3.11/dist-packages/IPython/core/async_helpers.py:164: size=64 B, count=1, average=64 B\n",
            "/usr/lib/python3.11/queue.py:165: size=64 B, count=1, average=64 B\n",
            "/usr/lib/python3.11/concurrent/futures/_base.py:542: size=64 B, count=1, average=64 B\n",
            "/usr/local/lib/python3.11/dist-packages/jupyter_client/session.py:942: size=56 B, count=1, average=56 B\n",
            "/usr/local/lib/python3.11/dist-packages/IPython/core/interactiveshell.py:3423: size=56 B, count=1, average=56 B\n",
            "/usr/lib/python3.11/tracemalloc.py:558: size=56 B, count=1, average=56 B\n",
            "/usr/lib/python3.11/selectors.py:466: size=56 B, count=1, average=56 B\n",
            "/usr/lib/python3.11/concurrent/futures/_base.py:335: size=56 B, count=1, average=56 B\n",
            "/usr/lib/python3.11/concurrent/futures/_base.py:330: size=56 B, count=1, average=56 B\n",
            "/usr/local/lib/python3.11/dist-packages/IPython/core/prefilter.py:325: size=55 B, count=1, average=55 B\n",
            "/usr/local/lib/python3.11/dist-packages/tornado/concurrent.py:193: size=48 B, count=1, average=48 B\n",
            "/usr/local/lib/python3.11/dist-packages/ipykernel/ipkernel.py:383: size=48 B, count=1, average=48 B\n",
            "/usr/local/lib/python3.11/dist-packages/IPython/core/interactiveshell.py:3464: size=48 B, count=1, average=48 B\n",
            "/usr/lib/python3.11/asyncio/base_events.py:1920: size=48 B, count=1, average=48 B\n",
            "/usr/local/lib/python3.11/dist-packages/debugpy/_vendored/pydevd/_pydevd_bundle/pydevd_comm.py:199: size=35 B, count=1, average=35 B\n",
            "/usr/local/lib/python3.11/dist-packages/jupyter_client/session.py:861: size=32 B, count=1, average=32 B\n",
            "/usr/local/lib/python3.11/dist-packages/jupyter_client/session.py:516: size=32 B, count=1, average=32 B\n",
            "/usr/local/lib/python3.11/dist-packages/ipykernel/iostream.py:516: size=32 B, count=1, average=32 B\n",
            "/usr/local/lib/python3.11/dist-packages/debugpy/_vendored/pydevd/_pydevd_bundle/pydevd_net_command_factory_xml.py:191: size=32 B, count=1, average=32 B\n",
            "/usr/local/lib/python3.11/dist-packages/IPython/core/interactiveshell.py:3462: size=32 B, count=1, average=32 B\n",
            "/usr/local/lib/python3.11/dist-packages/IPython/core/compilerop.py:178: size=32 B, count=1, average=32 B\n",
            "/usr/lib/python3.11/concurrent/futures/_base.py:421: size=32 B, count=1, average=32 B\n",
            "/usr/local/lib/python3.11/dist-packages/IPython/core/compilerop.py:157: size=28 B, count=1, average=28 B\n"
          ]
        }
      ]
    },
    {
      "cell_type": "code",
      "source": [],
      "metadata": {
        "id": "1sEt6_pps85S"
      },
      "execution_count": null,
      "outputs": []
    }
  ]
}