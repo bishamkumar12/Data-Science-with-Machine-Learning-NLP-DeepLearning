{
  "nbformat": 4,
  "nbformat_minor": 0,
  "metadata": {
    "colab": {
      "provenance": []
    },
    "kernelspec": {
      "name": "python3",
      "display_name": "Python 3"
    },
    "language_info": {
      "name": "python"
    }
  },
  "cells": [
    {
      "cell_type": "markdown",
      "source": [
        "## SQL and SQLite\n",
        "\n",
        "SQL is standard language for managing and manipulating relational databases. SQLite is self-contained, serverless and zero-configuration database engine that is widely used for embedded database systems."
      ],
      "metadata": {
        "id": "vYzsSfpUZQ1i"
      }
    },
    {
      "cell_type": "code",
      "source": [
        "import sqlite3"
      ],
      "metadata": {
        "id": "xpVv45N0bgaF"
      },
      "execution_count": null,
      "outputs": []
    },
    {
      "cell_type": "code",
      "source": [
        "# connect to and SQLite database\n",
        "connection = sqlite3.connect(\"example.db\")\n",
        "connection"
      ],
      "metadata": {
        "colab": {
          "base_uri": "https://localhost:8080/"
        },
        "id": "598s0rcXb7Lh",
        "outputId": "52bc3f5b-76ee-4a2b-8be0-2f37615b7f82"
      },
      "execution_count": null,
      "outputs": [
        {
          "output_type": "execute_result",
          "data": {
            "text/plain": [
              "<sqlite3.Connection at 0x7aac0f773a60>"
            ]
          },
          "metadata": {},
          "execution_count": 2
        }
      ]
    },
    {
      "cell_type": "code",
      "source": [
        "cursor = connection.cursor()\n"
      ],
      "metadata": {
        "id": "iAo8WiapcUWo"
      },
      "execution_count": null,
      "outputs": []
    },
    {
      "cell_type": "code",
      "source": [
        "## create a table\n",
        "cursor.execute('''\n",
        "Create Table If Not Exists employees(\n",
        "  id Integer Primary Key,\n",
        "  name Text Not Null,\n",
        "  age Integer,\n",
        "  department text\n",
        ")\n",
        "''')\n",
        "\n",
        "# commit the changes\n",
        "connection.commit()"
      ],
      "metadata": {
        "id": "olQnDqNKcrNx"
      },
      "execution_count": null,
      "outputs": []
    },
    {
      "cell_type": "code",
      "source": [
        "cursor.execute('''\n",
        "Select * from employees\n",
        "\n",
        "''')"
      ],
      "metadata": {
        "colab": {
          "base_uri": "https://localhost:8080/"
        },
        "id": "0ZXb77CDfaaM",
        "outputId": "be3b62e0-b67d-4e99-f008-5a9cf08857a1"
      },
      "execution_count": null,
      "outputs": [
        {
          "output_type": "execute_result",
          "data": {
            "text/plain": [
              "<sqlite3.Cursor at 0x7aac0ee15d40>"
            ]
          },
          "metadata": {},
          "execution_count": 5
        }
      ]
    },
    {
      "cell_type": "code",
      "source": [
        "# Insert data into SQLite table\n",
        "cursor.execute('''\n",
        "    INSERT INTO employees(name, age, department)\n",
        "    VALUES('Bhisham', 25, 'ML')\n",
        "''')\n",
        "\n",
        "cursor.execute('''\n",
        "    INSERT INTO employees(name, age, department)\n",
        "    VALUES('Bob', 35, 'eng')\n",
        "''')\n",
        "\n",
        "cursor.execute('''\n",
        "    INSERT INTO employees(name, age, department)\n",
        "    VALUES('pk', 25, 'Web dev')\n",
        "''')\n",
        "\n",
        "# commit the changes\n",
        "connection.commit()"
      ],
      "metadata": {
        "id": "h3iN0A6OftxJ"
      },
      "execution_count": null,
      "outputs": []
    },
    {
      "cell_type": "code",
      "source": [
        "# query the data from the table\n",
        "cursor.execute(\"Select * from employees\")\n",
        "rows = cursor.fetchall()\n",
        "\n",
        "## print the queried data\n",
        "for row in rows:\n",
        "  print(row)"
      ],
      "metadata": {
        "id": "uHnz8SFVjFJ8",
        "colab": {
          "base_uri": "https://localhost:8080/"
        },
        "outputId": "05e35734-6185-4a7b-df6f-2af30f9f646c"
      },
      "execution_count": null,
      "outputs": [
        {
          "output_type": "stream",
          "name": "stdout",
          "text": [
            "(1, 'Bhisham', 25, 'ML')\n",
            "(2, 'Bob', 35, 'eng')\n",
            "(3, 'pk', 25, 'Web dev')\n",
            "(4, 'Bhisham', 25, 'ML')\n",
            "(5, 'Bob', 35, 'eng')\n",
            "(6, 'pk', 25, 'Web dev')\n"
          ]
        }
      ]
    },
    {
      "cell_type": "code",
      "source": [
        "## update th data in the table\n",
        "cursor.execute('''\n",
        "update employees\n",
        "set age = 28\n",
        "where name = \"Bob\"\n",
        "''')\n",
        "\n",
        "connection.commit()"
      ],
      "metadata": {
        "id": "OkySuS6fTMmY"
      },
      "execution_count": null,
      "outputs": []
    },
    {
      "cell_type": "code",
      "source": [
        "# query the data from the table\n",
        "cursor.execute(\"Select * from employees\")\n",
        "rows = cursor.fetchall()\n",
        "\n",
        "## print the queried data\n",
        "for row in rows:\n",
        "  print(row)"
      ],
      "metadata": {
        "colab": {
          "base_uri": "https://localhost:8080/"
        },
        "id": "VvsMRNgBUEcW",
        "outputId": "494dd5be-9ef3-4765-9dec-a41374dec662"
      },
      "execution_count": null,
      "outputs": [
        {
          "output_type": "stream",
          "name": "stdout",
          "text": [
            "(1, 'Bhisham', 25, 'ML')\n",
            "(2, 'Bob', 28, 'eng')\n",
            "(3, 'pk', 25, 'Web dev')\n",
            "(4, 'Bhisham', 25, 'ML')\n",
            "(5, 'Bob', 28, 'eng')\n",
            "(6, 'pk', 25, 'Web dev')\n"
          ]
        }
      ]
    },
    {
      "cell_type": "code",
      "source": [
        "## delete the data from the table\n",
        "cursor.execute('''\n",
        "Delete from employees\n",
        "where name = \"Bob\"\n",
        "''')\n",
        "\n",
        "connection.commit()"
      ],
      "metadata": {
        "id": "Ju-XdAKDUl2o"
      },
      "execution_count": null,
      "outputs": []
    },
    {
      "cell_type": "code",
      "source": [
        "# query the data from the table\n",
        "cursor.execute(\"Select * from employees\")\n",
        "rows = cursor.fetchall()\n",
        "\n",
        "## print the queried data\n",
        "for row in rows:\n",
        "  print(row)"
      ],
      "metadata": {
        "colab": {
          "base_uri": "https://localhost:8080/"
        },
        "id": "Bzua6LiPU4_7",
        "outputId": "3e1024c8-a134-4a84-d982-40c8506ff117"
      },
      "execution_count": null,
      "outputs": [
        {
          "output_type": "stream",
          "name": "stdout",
          "text": [
            "(1, 'Bhisham', 25, 'ML')\n",
            "(3, 'pk', 25, 'Web dev')\n",
            "(4, 'Bhisham', 25, 'ML')\n",
            "(6, 'pk', 25, 'Web dev')\n"
          ]
        }
      ]
    },
    {
      "cell_type": "code",
      "source": [
        "## working with sales data\n",
        "connection = sqlite3.connect(\"sales_data.db\")\n",
        "cursor = connection.cursor()\n",
        "\n",
        "# create a table for sales data\n",
        "cursor.execute('''\n",
        "create table if not exists sales(\n",
        "  id integer primary key,\n",
        "  date text not null,\n",
        "  product text not null,\n",
        "  sales integer,\n",
        "  region text\n",
        ")\n",
        "''')\n",
        "\n",
        "# insert data into the sales table\n",
        "sales_data= [\n",
        "    ('2023-01-01', 'Product1', 100, 'North'),\n",
        "    ('2023-01-02', 'Product2', 200, 'South'),\n",
        "    ('2023-01-04', 'Product1', 300, 'East'),\n",
        "    ('2023-01-05', 'Product3', 400, 'West'),\n",
        "    ('2024-01-01', 'Product2', 600, 'North'),\n",
        "]\n",
        "\n",
        "cursor.executemany('''\n",
        "insert into sales(date, product, sales, region)\n",
        "values(?,?,?,?)\n",
        "''',sales_data)\n",
        "\n",
        "connection.commit()"
      ],
      "metadata": {
        "id": "APa6Vbx7U7Fe"
      },
      "execution_count": null,
      "outputs": []
    },
    {
      "cell_type": "code",
      "source": [
        "# query the data from the table\n",
        "cursor.execute(\"Select * from sales\")\n",
        "rows = cursor.fetchall()\n",
        "\n",
        "## print the queried data\n",
        "for row in rows:\n",
        "  print(row)"
      ],
      "metadata": {
        "colab": {
          "base_uri": "https://localhost:8080/"
        },
        "id": "5fBV8P3wW5yh",
        "outputId": "987cd32a-e743-47f4-8846-3466767d523a"
      },
      "execution_count": null,
      "outputs": [
        {
          "output_type": "stream",
          "name": "stdout",
          "text": [
            "(1, '2023-01-01', 'Product1', 100, 'North')\n",
            "(2, '2023-01-02', 'Product2', 200, 'South')\n",
            "(3, '2023-01-04', 'Product1', 300, 'East')\n",
            "(4, '2023-01-05', 'Product3', 400, 'West')\n",
            "(5, '2024-01-01', 'Product2', 600, 'North')\n"
          ]
        }
      ]
    },
    {
      "cell_type": "code",
      "source": [
        "# close the connection\n",
        "connection.close()"
      ],
      "metadata": {
        "id": "QROSta2BX_zI"
      },
      "execution_count": null,
      "outputs": []
    },
    {
      "cell_type": "code",
      "source": [
        "# query the data from the table\n",
        "cursor.execute(\"Select * from sales\")\n",
        "rows = cursor.fetchall()\n",
        "\n",
        "## print the queried data\n",
        "for row in rows:\n",
        "  print(row)"
      ],
      "metadata": {
        "colab": {
          "base_uri": "https://localhost:8080/",
          "height": 211
        },
        "id": "oSLlkryIYMvf",
        "outputId": "1c3a7299-5dd4-4abf-fbe9-f84e4a60c4bb"
      },
      "execution_count": null,
      "outputs": [
        {
          "output_type": "error",
          "ename": "ProgrammingError",
          "evalue": "Cannot operate on a closed database.",
          "traceback": [
            "\u001b[0;31m---------------------------------------------------------------------------\u001b[0m",
            "\u001b[0;31mProgrammingError\u001b[0m                          Traceback (most recent call last)",
            "\u001b[0;32m/tmp/ipython-input-22-3328315228.py\u001b[0m in \u001b[0;36m<cell line: 0>\u001b[0;34m()\u001b[0m\n\u001b[1;32m      1\u001b[0m \u001b[0;31m# query the data from the table\u001b[0m\u001b[0;34m\u001b[0m\u001b[0;34m\u001b[0m\u001b[0m\n\u001b[0;32m----> 2\u001b[0;31m \u001b[0mcursor\u001b[0m\u001b[0;34m.\u001b[0m\u001b[0mexecute\u001b[0m\u001b[0;34m(\u001b[0m\u001b[0;34m\"Select * from sales\"\u001b[0m\u001b[0;34m)\u001b[0m\u001b[0;34m\u001b[0m\u001b[0;34m\u001b[0m\u001b[0m\n\u001b[0m\u001b[1;32m      3\u001b[0m \u001b[0mrows\u001b[0m \u001b[0;34m=\u001b[0m \u001b[0mcursor\u001b[0m\u001b[0;34m.\u001b[0m\u001b[0mfetchall\u001b[0m\u001b[0;34m(\u001b[0m\u001b[0;34m)\u001b[0m\u001b[0;34m\u001b[0m\u001b[0;34m\u001b[0m\u001b[0m\n\u001b[1;32m      4\u001b[0m \u001b[0;34m\u001b[0m\u001b[0m\n\u001b[1;32m      5\u001b[0m \u001b[0;31m## print the queried data\u001b[0m\u001b[0;34m\u001b[0m\u001b[0;34m\u001b[0m\u001b[0m\n",
            "\u001b[0;31mProgrammingError\u001b[0m: Cannot operate on a closed database."
          ]
        }
      ]
    }
  ]
}