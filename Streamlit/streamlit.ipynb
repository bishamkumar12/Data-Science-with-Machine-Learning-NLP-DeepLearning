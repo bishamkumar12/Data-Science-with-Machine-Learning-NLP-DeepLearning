{
 "cells": [
  {
   "cell_type": "markdown",
   "id": "ef1677e0",
   "metadata": {},
   "source": [
    "### Streamlit\n",
    "\n",
    "Streamlit is an open-source app framework for ML and Data Science projects. It allows you to create beautiful web applications for your Machine learning and DS projects with simple Python scripts. "
   ]
  },
  {
   "cell_type": "markdown",
   "id": "6d36202e",
   "metadata": {},
   "source": []
  }
 ],
 "metadata": {
  "language_info": {
   "name": "python"
  }
 },
 "nbformat": 4,
 "nbformat_minor": 5
}
